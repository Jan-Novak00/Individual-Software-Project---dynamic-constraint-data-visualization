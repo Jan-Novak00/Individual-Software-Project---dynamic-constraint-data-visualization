{
  "nbformat": 4,
  "nbformat_minor": 0,
  "metadata": {
    "colab": {
      "provenance": [],
      "authorship_tag": "ABX9TyOxDh0t2rdyGSl/ePR8NHcW",
      "include_colab_link": true
    },
    "kernelspec": {
      "name": "python3",
      "display_name": "Python 3"
    },
    "language_info": {
      "name": "python"
    }
  },
  "cells": [
    {
      "cell_type": "markdown",
      "metadata": {
        "id": "view-in-github",
        "colab_type": "text"
      },
      "source": [
        "<a href=\"https://colab.research.google.com/github/Jan-Novak00/Individual-Software-Project---dynamic-constraint-data-visualization/blob/main/kiwi_pokus.ipynb\" target=\"_parent\"><img src=\"https://colab.research.google.com/assets/colab-badge.svg\" alt=\"Open In Colab\"/></a>"
      ]
    },
    {
      "cell_type": "code",
      "source": [
        "import kiwisolver\n",
        "from kiwisolver import Variable, Constraint, Solver\n",
        "from PIL import Image, ImageDraw\n",
        "from IPython.display import display\n",
        "\n",
        "\n",
        "class Rectangle:\n",
        "    '''\n",
        "    Rectangle class\n",
        "\n",
        "    Represents the rectangle object\n",
        "    '''\n",
        "    def __init__(self, name: str, color: str | int = \"blue\"):\n",
        "        self.name: str = name\n",
        "\n",
        "        # Bottom left corner coordinates\n",
        "        self.leftBottomX: kiwisolver.Variable = Variable(name+\"LB\"+\"x\")\n",
        "        self.leftBottomY: kiwisolver.Variable = Variable(name+\"LB\"+\"y\")\n",
        "\n",
        "        # Top right corner coordinates\n",
        "        self.rightTopX: kiwisolver.Variable = Variable(name+\"RT\"+\"x\")\n",
        "        self.rightTopY: kiwisolver.Variable = Variable(name+\"RT\"+\"y\")\n",
        "\n",
        "        self.color: str | int = color\n",
        "\n",
        "\n",
        "    def generateSizeConstraints(self, height: int, width: int):\n",
        "        '''\n",
        "        Returns predefined constraints for dimentions of the rectangle\n",
        "\n",
        "        Parameters: height, width\n",
        "        '''\n",
        "        constraints = [self.rightTopX == self.leftBottomX + width, self.rightTopY == self.leftBottomY + height]\n",
        "        return constraints\n",
        "\n",
        "\n",
        "    def ToString(self):\n",
        "        '''\n",
        "        Returns coordinates of left bottom corner (LB) and right top corner (RT) as a string\n",
        "        '''\n",
        "        return f\"{self.name}LB = ({self.leftBottomX.value()}, {self.leftBottomY.value()}), {self.name}RT = ({self.rightTopX.value()}, {self.rightTopY.value()})\"\n",
        "\n",
        "\n",
        "\n",
        "def generateInitialRectangleConstraints(rectangles: list[Rectangle], height: int, width: int, spacing: int):\n",
        "    '''\n",
        "    For a list of rectangles returns constraints which define their default dimentions and spacing ('weak' strength)\n",
        "    All positions are relative.\n",
        "    Adds constraints to keep all coordinates non-negative ('required' strength).\n",
        "\n",
        "    Parameters: height, width, spacing\n",
        "\n",
        "    '''\n",
        "    constraints = []\n",
        "    initialSizeConstraints = []\n",
        "    initialPositionConstraints = []\n",
        "    firstRectangle = rectangles[0]\n",
        "\n",
        "    for rectangle in rectangles:\n",
        "        initialSizeConstraints += [constraint | \"weak\" for constraint in rectangle.generateSizeConstraints(height, width)]\n",
        "        initialPositionConstraints += [constraint | \"required\" for constraint in [rectangle.leftBottomX >= 0, rectangle.leftBottomY >= 0, rectangle.rightTopX >= 0, rectangle.rightTopY >= 0]]\n",
        "        initialPositionConstraints.append(rectangle.leftBottomY == firstRectangle.leftBottomY)\n",
        "\n",
        "    initialSpacingConstraints = [] if len(rectangles) < 2 else [(rectangles[1].leftBottomX == firstRectangle.rightTopX + spacing) | \"weak\"] # fix spacing between the first and second rectangle\n",
        "    if len(rectangles) >= 3:\n",
        "        for i in range(2, len(rectangles)):\n",
        "            initialSpacingConstraints.append((rectangles[i].leftBottomX - rectangles[i-1].rightTopX == rectangles[i-1].leftBottomX - rectangles[i-2].rightTopX) | \"weak\")\n",
        "\n",
        "    constraints = initialSizeConstraints + initialPositionConstraints + initialSpacingConstraints\n",
        "    return constraints\n",
        "\n",
        "\n",
        "def solveConstraints(constraints: list[kiwisolver.Constraint], dumpSolverOutput = False):\n",
        "    '''\n",
        "    Solves listed constraints\n",
        "\n",
        "    Parameters: constraints, dumpSolverOutput (optional)\n",
        "    '''\n",
        "    solver = Solver()\n",
        "    for constraint in constraints:\n",
        "        solver.addConstraint(constraint)\n",
        "    solver.updateVariables()\n",
        "\n",
        "    if dumpSolverOutput:\n",
        "        solver.dump()\n",
        "\n",
        "def generateRectangleImage(rectangles: list[Rectangle], imageWidth: int, imageHeight: int):\n",
        "    '''\n",
        "    Returns Image object for given list of rectangles\n",
        "\n",
        "    Parameters: rectangles (list of rectangles), imageWidth, imageHeight\n",
        "    '''\n",
        "\n",
        "    img = Image.new(\"RGB\", (imageWidth, imageHeight), \"white\")\n",
        "    draw = ImageDraw.Draw(img)\n",
        "\n",
        "    for rec in rectangles:\n",
        "        draw.rectangle([\n",
        "                        rec.leftBottomX.value(), imageHeight - rec.rightTopY.value(),  # if origin is at top left corenr of image, we use rec.leftBottomY.value(), if at bottom lef corner, we use imageHeight - rec.rightTopY.value()\n",
        "                        rec.rightTopX.value(), imageHeight - rec.leftBottomY.value()  # same as above\n",
        "                        ],\n",
        "                      fill=rec.color, outline = \"black\")\n",
        "\n",
        "    #draw.rectangle([500, 0, 501, imageHeight], fill=\"black\") # fot resting purposes\n",
        "    return img\n",
        "\n",
        "\n",
        "##### Picture generation #####\n",
        "\n",
        "if __name__ == \"__main__\":\n",
        "    rectangles = [Rectangle(\"a\",\"red\"), Rectangle(\"b\", \"lightblue\"), Rectangle(\"c\",\"lime\"), Rectangle(\"d\",\"purple\"), Rectangle(\"e\",\"orange\")]\n",
        "\n",
        "    constraints = generateInitialRectangleConstraints(rectangles, 100, 60, 140)\n",
        "    constraints.append((rectangles[0].leftBottomX == 8) | \"strong\")\n",
        "    constraints.append((rectangles[0].leftBottomY == 8) | \"strong\")\n",
        "\n",
        "    solveConstraints(constraints)\n",
        "\n",
        "    display(generateRectangleImage(rectangles, 1500, 200))\n",
        "\n"
      ],
      "metadata": {
        "colab": {
          "base_uri": "https://localhost:8080/",
          "height": 217
        },
        "id": "oSCVrR55RLdq",
        "outputId": "bb689104-a0f4-4699-dc1a-56cf0fb17156"
      },
      "execution_count": 3,
      "outputs": [
        {
          "output_type": "display_data",
          "data": {
            "text/plain": [
              "<PIL.Image.Image image mode=RGB size=1500x200>"
            ],
            "image/png": "[encoded data removed]",
            "image/jpeg": "[encoded data removed]"
          },
          "metadata": {}
        }
      ]
    },
    {
      "cell_type": "markdown",
      "source": [
        "# TO DO:\n",
        "- add new varaibles (kiwisolver.Variable)\n",
        "  - spacing\n",
        "  - width\n",
        "  - height"
      ],
      "metadata": {
        "id": "oqUAB5tb0K96"
      }
    }
  ]
}